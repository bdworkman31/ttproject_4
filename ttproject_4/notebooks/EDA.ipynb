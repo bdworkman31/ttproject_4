{
 "cells": [
  {
   "cell_type": "code",
   "execution_count": null,
   "metadata": {},
   "outputs": [],
   "source": [
    "#Import Libraries\n",
    "import pandas as pd\n",
    "import matplotlib as plt"
   ]
  },
  {
   "cell_type": "code",
   "execution_count": null,
   "metadata": {},
   "outputs": [],
   "source": [
    "#Read CSV file into dataframe\n",
    "df_vehicles = pd.read_csv('vehicles_us.csv')\n",
    "\n",
    "#Call info to be understand datatypes in dataframe:\n",
    "df_vehicles.info()\n",
    "df_vehicles.describe()\n",
    "\n",
    "df_vehicles"
   ]
  },
  {
   "cell_type": "markdown",
   "metadata": {},
   "source": [
    "Now, we will perform some EDA beginnning with checking for null values in certain columns and duplicated values.  A partiulcar focus will be made on the price and days_listed columns due to the fact that these contain the most useful information in assessing a particular vehicle. "
   ]
  },
  {
   "cell_type": "code",
   "execution_count": null,
   "metadata": {},
   "outputs": [],
   "source": [
    "# Check for Duplicated Values and null values\n",
    "vehicle_duplicates = df_vehicles[df_vehicles.duplicated]\n",
    "\n",
    "#Empty dataframe is return, therefore there are no duplicates\n",
    "print(vehicle_duplicates)\n",
    "\n",
    "#Checking for null values in various columns:\n",
    "price_null = df_vehicles[df_vehicles['price'].isnull()]\n",
    "days_listed_null = df_vehicles[df_vehicles['days_listed'].isnull()]\n",
    "model_year_null = df_vehicles[df_vehicles['model_year'].isnull()]\n",
    "model_null = df_vehicles[df_vehicles['model'].isnull()]\n",
    "\n",
    "\n",
    "\n",
    "\n",
    "#In the model_year column, we have null values.  Without these values, we cannot accurately assess a cars values, as there are notable differences between years \n",
    "#These empty columns will be dropped:\n",
    "print(price_null)\n",
    "print(days_listed_null)\n",
    "print(model_year_null)\n",
    "print(model_null)\n",
    "\n",
    "df_vehicles = df_vehicles.dropna(subset=['model_year'])\n",
    "\n",
    "\n"
   ]
  },
  {
   "cell_type": "code",
   "execution_count": null,
   "metadata": {},
   "outputs": [],
   "source": [
    "#Change data types to be more descriptive of the column:\n",
    "df_vehicles['model_year'] = df_vehicles['model_year'].astype(int)\n",
    "# df_vehicles['is_4wd'] = df_vehicles['is_4wd'].astype()\n",
    "\n",
    "df_null = df_vehicles['is_4wd'][df_vehicles['is_4wd'].isnull()]\n",
    "not_null = df_vehicles['is_4wd'][df_vehicles['is_4wd'] == 1.0]\n",
    "\n",
    "\n",
    "\n",
    "\"\"\"\n",
    "The sum of the null values plus the sum of those equal to 1.0 is the same as the total amount.  \n",
    "Thus, the null values could better represented by the number 0 and type int.\n",
    "\"\"\"\n",
    "df_vehicles['is_4wd'] = df_vehicles['is_4wd'].fillna(0)\n",
    "df_vehicles['is_4wd'] = df_vehicles['is_4wd'].astype(int)\n",
    "\n",
    "\n",
    "#Now change date_posted to date_time data type\n",
    "\n",
    "df_vehicles['date_posted'] = pd.to_datetime(df_vehicles['date_posted'])\n",
    "\n"
   ]
  },
  {
   "cell_type": "code",
   "execution_count": null,
   "metadata": {},
   "outputs": [
    {
     "name": "stdout",
     "output_type": "stream",
     "text": [
      "                model         price\n",
      "0            acura tl   6503.968326\n",
      "1              bmw x5  10909.439024\n",
      "2       buick enclave  11619.428016\n",
      "3   cadillac escalade  17813.080420\n",
      "4    chevrolet camaro  13710.657143\n",
      "..                ...           ...\n",
      "95      toyota sienna   9125.850340\n",
      "96      toyota tacoma  16338.977401\n",
      "97      toyota tundra  15196.799257\n",
      "98   volkswagen jetta   6517.840336\n",
      "99  volkswagen passat   8592.980952\n",
      "\n",
      "[100 rows x 2 columns]\n",
      "Empty DataFrame\n",
      "Columns: [price, model_year, model, condition, cylinders, fuel, odometer, transmission, type, paint_color, is_4wd, date_posted, days_listed]\n",
      "Index: []\n"
     ]
    }
   ],
   "source": [
    "\"\"\"\n",
    "Many of the years are rather old and don't appear accurate. \n",
    "For example, the F150 does not go back to the early 1900s.\n",
    "Let's filter for years newer than 2000 to determine the \n",
    "average price per model.\n",
    "\"\"\"\n",
    "\n",
    "df_vehicles_post2000 = df_vehicles[df_vehicles['model_year'] > 2000]\n",
    "avg_price_model = df_vehicles_post2000.groupby(['model'])['price'].mean().reset_index()\n",
    "\n",
    "print(avg_price_model)\n",
    "\n",
    "#Find vehicle after 2000 with highest and lowest average price:\n",
    "max_price = max(avg_price_model['price'])\n",
    "low_price = min(avg_price_model['price'])\n",
    "\n",
    "#Provide a bar graph based on condition of Vehicle:\n",
    "#First check for null values: \n",
    "condition_null  = df_vehicles[df_vehicles['condition'].isnull()]\n",
    "print(condition_null)\n",
    "\n",
    "#No nulls present.  Now we will graph according to condition:\n",
    "\n",
    "df_vehicles.plot(\n",
    "    kind='bar',\n",
    "    x='condition',\n",
    "    y='price'\n",
    "    \n",
    ")\n",
    "\n"
   ]
  },
  {
   "cell_type": "code",
   "execution_count": null,
   "metadata": {},
   "outputs": [],
   "source": []
  }
 ],
 "metadata": {
  "kernelspec": {
   "display_name": "base",
   "language": "python",
   "name": "python3"
  },
  "language_info": {
   "codemirror_mode": {
    "name": "ipython",
    "version": 3
   },
   "file_extension": ".py",
   "mimetype": "text/x-python",
   "name": "python",
   "nbconvert_exporter": "python",
   "pygments_lexer": "ipython3",
   "version": "3.10.9"
  }
 },
 "nbformat": 4,
 "nbformat_minor": 2
}
